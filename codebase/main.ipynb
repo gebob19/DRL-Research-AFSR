{
 "cells": [
  {
   "cell_type": "code",
   "execution_count": 68,
   "metadata": {},
   "outputs": [
    {
     "name": "stdout",
     "output_type": "stream",
     "text": [
      "The autoreload extension is already loaded. To reload it, use:\n",
      "  %reload_ext autoreload\n"
     ]
    }
   ],
   "source": [
    "import tensorflow as tf\n",
    "import numpy as np \n",
    "import pickle\n",
    "from pathlib import Path\n",
    "import gym \n",
    "import matplotlib\n",
    "import time\n",
    "import os\n",
    "\n",
    "from utils import Logger, MasterBuffer, Network\n",
    "from policy import Policy\n",
    "from density import DensityModel\n",
    "\n",
    "%load_ext autoreload\n",
    "%autoreload 2"
   ]
  },
  {
   "cell_type": "code",
   "execution_count": 2,
   "metadata": {},
   "outputs": [],
   "source": [
    "class DynamicsModel(object):\n",
    "    def __init__(self, graph_args, rollout_args):\n",
    "        self.enc_dim = graph_args['enc_dim']\n",
    "        self.act_dim = graph_args['act_dim']\n",
    "        self.act_low = graph_args['action_low']\n",
    "        self.act_high = graph_args['action_high']\n",
    "        \n",
    "        self.learning_rate = graph_args['learning_rate']\n",
    "        # network params\n",
    "        self.hid_size = graph_args['hid_size']\n",
    "        self.n_hidden = graph_args['n_hidden']\n",
    "        self.conv_depth = graph_args['conv_depth']\n",
    "        # rollout args\n",
    "        self.horizon = rollout_args['horizon']\n",
    "        self.num_rollouts = rollout_args['num_rollouts']\n",
    "        \n",
    "        self.state, self.action, self.n_state = self.setup_placeholders()\n",
    "        self.n_state_pred = self.dynamics_func(self.state, self.action, False)\n",
    "        \n",
    "        # Calculate Loss\n",
    "        delta = self.state - self.n_state\n",
    "        delta_pred = self.state - self.n_state_pred\n",
    "        self.loss = tf.losses.mean_squared_error(delta, delta_pred)\n",
    "        self.update_step = tf.train.AdamOptimizer(self.learning_rate).minimize(self.loss)\n",
    "\n",
    "    def set_session(self, sess):\n",
    "        self.sess = sess\n",
    "\n",
    "    def setup_placeholders(self):\n",
    "        state = tf.placeholder(shape=(None, self.enc_dim), name=\"state\", dtype=tf.float32)\n",
    "        action = tf.placeholder(shape=(None, self.act_dim), name='action', dtype=tf.float32)\n",
    "        n_state = tf.placeholder(shape=(None, self.enc_dim), name=\"next_state\", dtype=tf.float32)\n",
    "        return state, action, n_state\n",
    "\n",
    "    def dynamics_func(self, state, action, reuse):\n",
    "        # add state, action normalization?\n",
    "        sa = tf.concat([state, action], axis=1)\n",
    "        delta_pred = Network(sa, self.enc_dim, 'dynamics', self.hid_size, conv_depth=0, n_hidden_dense=self.n_hidden, reuse=reuse)\n",
    "        n_state_pred = state + delta_pred\n",
    "        return n_state_pred    \n",
    "    \n",
    "    def update(self, state, action, n_state):\n",
    "        loss, _ = self.sess.run([self.loss, self.update_step], feed_dict={\n",
    "            self.state: state,\n",
    "            self.action: action,\n",
    "            self.n_state: n_state\n",
    "        })\n",
    "        return loss\n",
    "\n",
    "    def get_best_actions(self, state, profit_fcn, num_actions):\n",
    "        \"\"\" Given encoded state will return `num_rollouts` rollouts where each rollout is of size `horizon`.\n",
    "        Encoded state.\n",
    "        => rollouts \n",
    "        => apply profit_fcn to rollouts \n",
    "        => choose rollout with highest profit \n",
    "        => return (first k-actions of best rollout, profit of rollout)\n",
    "        \"\"\"\n",
    "        ran_sample = tf.random_uniform((self.horizon, self.num_rollouts, self.act_dim), \n",
    "                                       minval=self.act_low, \n",
    "                                       maxval=self.act_high, \n",
    "                                       dtype=tf.int32)\n",
    "        \n",
    "        rollout_profits = np.zeros((self.num_rollouts,), dtype=np.float32)\n",
    "        \n",
    "        # init state batch to starting state\n",
    "        state_batch = tf.ones((self.num_rollouts, 1), dtype=tf.float32) * state\n",
    "        for index in range(self.horizon):\n",
    "            act_batch = tf.cast(ran_sample[index], tf.float32)\n",
    "            next_state_batch = self.dynamics_func(state_batch, act_batch, True)\n",
    "            state_batch = next_state_batch\n",
    "            \n",
    "            # check profit of current states for all rollouts \n",
    "            profit_batch = profit_fcn(state_batch, evaluate=True, encoded=True)\n",
    "            rollout_profits += profit_batch\n",
    "            \n",
    "        max_profit_rollout = np.argmax(rollout_profits, axis=0)\n",
    "        ran_sample = tf.transpose(ran_sample, perm=(1, 0, 2))\n",
    "        best_actions = ran_sample[max_profit_rollout][:num_actions]\n",
    "        return best_actions, rollout_profits[max_profit_rollout]"
   ]
  },
  {
   "cell_type": "code",
   "execution_count": 3,
   "metadata": {},
   "outputs": [],
   "source": [
    "# # most params are default taken from homework\n",
    "# env = gym.make('MontezumaRevenge-v0')\n",
    "\n",
    "# ## STATE DENSITY FUNCTION PARAMS\n",
    "# density_graph_args = {\n",
    "#     'ob_dim': env.observation_space.shape,\n",
    "#     'learning_rate': 5e-3,\n",
    "#     'z_size': 32,\n",
    "#     'kl_weight': 1e-2,\n",
    "#     'conv_depth': 5,\n",
    "#     'hid_size': 32,\n",
    "#     'n_hidden': 2,\n",
    "#     'bonus_multiplier': 1\n",
    "# }\n",
    "\n",
    "# ## POLICY PARAMS\n",
    "# policy_graph_args = {\n",
    "#     'ob_dim': env.observation_space.shape,\n",
    "#     'act_dim': env.action_space.n,\n",
    "#     'clip_range': 0.2,\n",
    "#     'conv_depth': 5,\n",
    "#     'filter_size': 32,\n",
    "#     'learning_rate': 5e-3,\n",
    "#     'num_target_updates': 10,\n",
    "#     'num_grad_steps_per_target_update': 10\n",
    "# }\n",
    "# adv_args = {\n",
    "#     'gamma': 0.9999999\n",
    "# }\n",
    "\n",
    "# ## STATE DYNAMICS PARAMS\n",
    "# action_low = 0\n",
    "# action_high = env.action_space.n\n",
    "# dynamics_graph_args = {\n",
    "#     'ob_dim': env.observation_space.shape,\n",
    "#     'act_dim': env.action_space.n,\n",
    "#     'action_low': action_low,\n",
    "#     'action_high': action_high,\n",
    "#     'learning_rate': 1e-3,\n",
    "#     'hid_size': 250,\n",
    "#     'n_hidden': 2\n",
    "# }\n",
    "# dynamics_rollout_args = {\n",
    "#     'horizon': 30,\n",
    "#     'num_rollouts': 1000,\n",
    "# }\n",
    "\n",
    "# ## AGENT PARAMS\n",
    "# agent_args = {\n",
    "#     'density_train_itr': 200,\n",
    "# }"
   ]
  },
  {
   "cell_type": "code",
   "execution_count": 4,
   "metadata": {},
   "outputs": [],
   "source": [
    "# tf.reset_default_graph()\n",
    "# # models\n",
    "# policy = Policy(policy_graph_args, adv_args)\n",
    "# density_model = DensityModel(density_graph_args)\n",
    "# dynamics_model = DynamicsModel(dynamics_graph_args, dynamics_rollout_args)\n",
    "# # utils # SmallRAMProblems\n",
    "# replay_buffer = MasterBuffer(max_size=40000)\n",
    "# logger = Logger()\n",
    "# # agent which will do all the work\n",
    "# agent = Agent(env, policy, density_model, dynamics_model, replay_buffer, logger, agent_args)"
   ]
  },
  {
   "cell_type": "code",
   "execution_count": 5,
   "metadata": {},
   "outputs": [],
   "source": [
    "class Agent(object):\n",
    "    def __init__(self, env, policy, density, dynamics, replay_buffer, logger, args):\n",
    "        self.env = env\n",
    "        # Models\n",
    "        self.policy = policy\n",
    "        self.density = density\n",
    "        self.dynamics = dynamics\n",
    "        # Utils\n",
    "        self.replay_buffer = replay_buffer\n",
    "        self.logger = logger\n",
    "        # Args\n",
    "        self.density_train_itr = args['density_train_itr']\n",
    "        self.dynamics_train_itr = args['dynamics_train_itr']\n",
    "        self.num_actions_taken_conseq = args['num_actions_taken_conseq']\n",
    "        self.profit_fcn = self.density.get_bonus\n",
    "        \n",
    "    def set_session(self, sess):\n",
    "        self.sess = sess\n",
    "        self.policy.set_session(sess)\n",
    "        self.density.set_session(sess)\n",
    "        self.dynamics.set_session(sess)\n",
    "        \n",
    "    def sample_env(self, batch_size, num_samples, shuffle, action_selection):\n",
    "        obs = self.env.reset()\n",
    "        actions = []\n",
    "        taking_action = False\n",
    "        \n",
    "        for _ in range(num_samples):\n",
    "            if action_selection == 'random':\n",
    "                act = self.env.action_space.sample()\n",
    "            elif action_selection == 'algorithm':\n",
    "                if not taking_action:\n",
    "                    actions = self.get_action(obs, self.num_actions_taken_conseq)\n",
    "                    action_index, taking_action = 0, True\n",
    "                act = actions[action_index][0]\n",
    "                action_index += 1\n",
    "                # check for end of actions\n",
    "                if action_index == self.num_actions_taken_conseq: taking_action = False\n",
    "            # execute action and record\n",
    "            n_ob, rew, done, _ = env.step(act)\n",
    "            self.replay_buffer.record(obs, act, rew, n_ob, done)\n",
    "            obs = n_ob if not done else env.reset()\n",
    "        \n",
    "        # get logprobs of taking actions w.r.t current policy\n",
    "        obs, actions = self.replay_buffer.get_actions()\n",
    "        logprobs = sess.run(policy.logprob, feed_dict={\n",
    "            policy.obs: obs,\n",
    "            policy.act: actions\n",
    "        })\n",
    "        self.replay_buffer.set_logprobs(logprobs)\n",
    "        self.replay_buffer.merge_temp()\n",
    "        return self.replay_buffer.get_all(batch_size, master=False, shuffle=shuffle)\n",
    "        \n",
    "    def get_action(self, obs, num_actions):\n",
    "        # Encode observation from density encoder\n",
    "        enc_obs = self.density.get_encoding([obs])[0]\n",
    "        # get action from state dynamics\n",
    "        actions, profit = self.dynamics.get_best_actions(enc_obs, self.profit_fcn, num_actions)\n",
    "        # AFTER TESTING ====> if profit < eps:  actions = policy.get_actions()\n",
    "        logger.log('dynamics', ['max_profit'], [profit])\n",
    "        return actions.eval()\n",
    "        \n",
    "    def get_data(self, batch_size, num_samples, itr):\n",
    "        if itr < 6:\n",
    "            return self.sample_env(batch_size, num_samples, shuffle=True, action_selection='random')\n",
    "        elif np.random.randint(10) < 6:\n",
    "            return self.sample_env(batch_size, num_samples, shuffle=True, action_selection='algorithm')\n",
    "        else:\n",
    "            return self.replay_buffer.get_all(batch_size, master=True, shuffle=True, size=num_samples)\n",
    "    \n",
    "    def train(self, batch_size, num_samples, itr):\n",
    "        obsList, actsList, rewardsList, n_obsList, donesList, logprobsList = self.get_data(batch_size, num_samples, itr)\n",
    "        self.replay_buffer.flush_temp()\n",
    "        \n",
    "        # process in batches of data\n",
    "        for obs, acts, rewards, n_obs, dones, logprobs in zip(obsList, actsList, rewardsList, n_obsList, donesList, logprobsList):\n",
    "            # train density model\n",
    "            for _ in range(self.density_train_itr):\n",
    "                s1, s2, target = self.replay_buffer.get_density_batch(obs, batch_size)\n",
    "                ll, kl, elbo = self.density.update(s1, s2, target)\n",
    "                self.logger.log('density', ['logloss', 'kl', 'elbo'], [ll, kl, elbo])\n",
    "                \n",
    "            # update dynamics \n",
    "            for _ in range(self.dynamics_train_itr):\n",
    "                # encode states\n",
    "                enc_obs = self.density.get_encoding(obs)\n",
    "                enc_n_obs = self.density.get_encoding(n_obs)\n",
    "                acts = acts.reshape(acts.shape[0], 1)\n",
    "                loss = self.dynamics.update(enc_obs, acts, enc_n_obs)\n",
    "                self.logger.log('dynamics', ['loss'], [loss])\n",
    "            \n",
    "            # train critic & actor\n",
    "            # inject exploration bonus\n",
    "#             rewards = self.density.modify_reward(obs, rewards)\n",
    "#             critic_loss = self.policy.train_critic(obs, n_obs, rewards, dones)\n",
    "#             adv = self.policy.estimate_adv(obs, rewards, n_obs, dones)\n",
    "#             actor_loss = self.policy.train_actor(obs, acts, logprobs, adv)\n",
    "#             self.logger.log('policy', ['actor_loss', 'critic_loss'], [actor_loss, critic_loss])"
   ]
  },
  {
   "cell_type": "markdown",
   "metadata": {},
   "source": [
    "# Test State Dynamics"
   ]
  },
  {
   "cell_type": "code",
   "execution_count": 6,
   "metadata": {},
   "outputs": [
    {
     "name": "stderr",
     "output_type": "stream",
     "text": [
      "/home/brennan/anaconda2/envs/py3/lib/python3.6/site-packages/gym/envs/registration.py:14: PkgResourcesDeprecationWarning: Parameters to load are deprecated.  Call .resolve and .require separately.\n",
      "  result = entry_point.load(False)\n"
     ]
    }
   ],
   "source": [
    "env = gym.make('MontezumaRevenge-v0')"
   ]
  },
  {
   "cell_type": "code",
   "execution_count": 7,
   "metadata": {},
   "outputs": [],
   "source": [
    "tf.reset_default_graph()\n",
    "\n",
    "## POLICY PARAMS\n",
    "policy_graph_args = {\n",
    "    'ob_dim': env.observation_space.shape,\n",
    "    'act_dim': env.action_space.n,\n",
    "    'clip_range': 0.2,\n",
    "    'conv_depth': 5,\n",
    "    'filter_size': 32,\n",
    "    'learning_rate': 5e-3,\n",
    "    'num_target_updates': 10,\n",
    "    'num_grad_steps_per_target_update': 10\n",
    "}\n",
    "adv_args = {\n",
    "    'gamma': 0.9999999\n",
    "}\n",
    "\n",
    "## STATE DENSITY FUNCTION PARAMS\n",
    "density_graph_args = {\n",
    "    'ob_dim': env.observation_space.shape,\n",
    "    'learning_rate': 5e-3,\n",
    "    'z_size': 32,\n",
    "    'kl_weight': 1e-2,\n",
    "    'conv_depth': 5,\n",
    "    'hid_size': 32,\n",
    "    'n_hidden': 2,\n",
    "    'bonus_multiplier': 1\n",
    "}\n",
    "\n",
    "# STATE DYNAMICS PARAMS\n",
    "action_low = 0\n",
    "action_high = env.action_space.n\n",
    "dynamics_graph_args = {\n",
    "    'enc_dim': density_graph_args['z_size'],\n",
    "    'act_dim': 1,\n",
    "    'action_low': action_low,\n",
    "    'action_high': action_high,\n",
    "    'learning_rate': 1e-3,\n",
    "    'hid_size': 64,\n",
    "    'conv_depth': 4,\n",
    "    'n_hidden': 2\n",
    "}\n",
    "dynamics_rollout_args = {\n",
    "    'horizon': 30,\n",
    "    'num_rollouts': 1000,\n",
    "}\n",
    "\n",
    "## AGENT PARAMS\n",
    "agent_args = {\n",
    "    'density_train_itr': 200,\n",
    "    'dynamics_train_itr': 10,\n",
    "    'num_actions_taken_conseq': 5,\n",
    "}\n",
    "\n",
    "policy = Policy(policy_graph_args, adv_args)\n",
    "dynamics = DynamicsModel(dynamics_graph_args, dynamics_rollout_args)\n",
    "density = DensityModel(density_graph_args)\n",
    "\n",
    "replay_buffer = MasterBuffer(max_size=30000)\n",
    "logger = Logger()\n",
    "agent = Agent(env, policy, density, dynamics, replay_buffer, logger, agent_args)"
   ]
  },
  {
   "cell_type": "code",
   "execution_count": 8,
   "metadata": {},
   "outputs": [
    {
     "name": "stdout",
     "output_type": "stream",
     "text": [
      "starting to train...\n",
      "Exported logs...in 309sec...\n"
     ]
    }
   ],
   "source": [
    "tf_config = tf.ConfigProto(inter_op_parallelism_threads=1, intra_op_parallelism_threads=1)\n",
    "tf_config.gpu_options.allow_growth = True\n",
    "with tf.Session(config=tf_config) as sess:\n",
    "    sess.run(tf.global_variables_initializer())\n",
    "    agent.set_session(sess)\n",
    "    \n",
    "    n_iter = 5\n",
    "    num_samples = 256\n",
    "    batch_size = [32]\n",
    "    render_n = 6\n",
    "    \n",
    "    print('starting to train...')\n",
    "    for bs in batch_size:\n",
    "        for itr in range(n_iter):\n",
    "            start = time.time()\n",
    "            agent.train(bs, num_samples, itr)\n",
    "            end = time.time()\n",
    "            \n",
    "            print('completed itr {} in {}sec...\\r'.format(str(itr), int(end-start)), end=\"\", flush=True)\n",
    "            if itr == n_iter-1:\n",
    "                logger.export()\n",
    "                print('Exported logs...')"
   ]
  },
  {
   "cell_type": "markdown",
   "metadata": {},
   "source": [
    "# Viewing Party"
   ]
  },
  {
   "cell_type": "code",
   "execution_count": 15,
   "metadata": {},
   "outputs": [],
   "source": [
    "logger = Logger()\n",
    "logger.import_logs('zsize-32.pkl')\n",
    "# logger.import_logs('1547598997.4943233.pkl')"
   ]
  },
  {
   "cell_type": "code",
   "execution_count": 16,
   "metadata": {},
   "outputs": [],
   "source": [
    "density_loss = logger.logs['density']['logloss']\n",
    "dynamics_loss = logger.logs['dynamics']['loss']\n",
    "dynamics_max_profit = logger.logs['dynamics']['max_profit']"
   ]
  },
  {
   "cell_type": "code",
   "execution_count": 17,
   "metadata": {},
   "outputs": [],
   "source": [
    "import matplotlib.pyplot as plt"
   ]
  },
  {
   "cell_type": "code",
   "execution_count": 18,
   "metadata": {},
   "outputs": [
    {
     "data": {
      "image/png": "[encoded data removed]",
      "text/plain": [
       "<Figure size 432x288 with 1 Axes>"
      ]
     },
     "metadata": {
      "needs_background": "light"
     },
     "output_type": "display_data"
    }
   ],
   "source": [
    "plt.plot(np.array(dynamics_loss).flatten())\n",
    "plt.title('MSE of Encoded State Dynamics')\n",
    "plt.ylabel('Loss')\n",
    "plt.xlabel('Train Itr')\n",
    "plt.show()"
   ]
  },
  {
   "cell_type": "code",
   "execution_count": 13,
   "metadata": {},
   "outputs": [
    {
     "data": {
      "image/png": "[encoded data removed]",
      "text/plain": [
       "<Figure size 432x288 with 1 Axes>"
      ]
     },
     "metadata": {
      "needs_background": "light"
     },
     "output_type": "display_data"
    }
   ],
   "source": [
    "plt.plot(np.array(density_loss).flatten())\n",
    "plt.show()"
   ]
  },
  {
   "cell_type": "code",
   "execution_count": 14,
   "metadata": {},
   "outputs": [
    {
     "data": {
      "image/png": "[encoded data removed]",
      "text/plain": [
       "<Figure size 432x288 with 1 Axes>"
      ]
     },
     "metadata": {
      "needs_background": "light"
     },
     "output_type": "display_data"
    }
   ],
   "source": [
    "plt.plot(np.array(dynamics_max_profit).flatten())\n",
    "plt.show()"
   ]
  },
  {
   "cell_type": "code",
   "execution_count": null,
   "metadata": {},
   "outputs": [],
   "source": [
    "logs = list(Path('iter-frames').iterdir())\n",
    "logs"
   ]
  },
  {
   "cell_type": "code",
   "execution_count": null,
   "metadata": {},
   "outputs": [],
   "source": [
    "n_frames = 50\n",
    "for fn in reversed(logs):\n",
    "    if os.path.isfile(fn):\n",
    "        with open(fn, 'rb') as file:\n",
    "            frames = pickle.load(file)\n",
    "    #         frames, rewards = data[0], data[1]\n",
    "            # View \n",
    "            img = plt.imshow(frames[0])\n",
    "            plt.title('Iteration:' + str(fn))\n",
    "            for i, frame in enumerate(frames):\n",
    "                img.set_data(frame) # just update the data\n",
    "                display.display(plt.gcf())\n",
    "                display.clear_output(wait=True)\n",
    "                if i > n_frames: break"
   ]
  },
  {
   "cell_type": "code",
   "execution_count": 28,
   "metadata": {},
   "outputs": [],
   "source": [
    "ones = tf.placeholder(shape=(5,5), dtype=tf.int32)\n",
    "twos = ones + 1\n",
    "\n",
    "with tf.Session() as sess:\n",
    "    my_ones = tf.ones((5, 5), dtype=tf.int32)\n",
    "    my_twos = sess.run(twos, feed_dict={\n",
    "        ones: my_ones.eval()\n",
    "    })"
   ]
  }
 ],
 "metadata": {
  "kernelspec": {
   "display_name": "Python 3",
   "language": "python",
   "name": "python3"
  },
  "language_info": {
   "codemirror_mode": {
    "name": "ipython",
    "version": 3
   },
   "file_extension": ".py",
   "mimetype": "text/x-python",
   "name": "python",
   "nbconvert_exporter": "python",
   "pygments_lexer": "ipython3",
   "version": "3.6.5"
  }
 },
 "nbformat": 4,
 "nbformat_minor": 2
}
